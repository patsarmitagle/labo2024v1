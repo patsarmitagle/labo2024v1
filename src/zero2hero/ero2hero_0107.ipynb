{
 "cells": [
  {
   "attachments": {},
   "cell_type": "markdown",
   "metadata": {},
   "source": [
    "# Zero to Hero"
   ]
  },
  {
   "attachments": {},
   "cell_type": "markdown",
   "metadata": {},
   "source": [
    "## 1.07 Aplicando el arbol"
   ]
  },
  {
   "attachments": {},
   "cell_type": "markdown",
   "metadata": {},
   "source": [
    "Se aplicará el modelo generado por rpart a los datos nuevos y se genera la salida para Kaggle"
   ]
  },
  {
   "cell_type": "code",
   "execution_count": 1,
   "metadata": {
    "tags": [],
    "vscode": {
     "languageId": "r"
    }
   },
   "outputs": [
    {
     "data": {
      "text/html": [
       "<table class=\"dataframe\">\n",
       "<caption>A matrix: 2 × 6 of type dbl</caption>\n",
       "<thead>\n",
       "\t<tr><th></th><th scope=col>used</th><th scope=col>(Mb)</th><th scope=col>gc trigger</th><th scope=col>(Mb)</th><th scope=col>max used</th><th scope=col>(Mb)</th></tr>\n",
       "</thead>\n",
       "<tbody>\n",
       "\t<tr><th scope=row>Ncells</th><td> 632565</td><td>33.8</td><td>1412747</td><td>75.5</td><td>1152217</td><td>61.6</td></tr>\n",
       "\t<tr><th scope=row>Vcells</th><td>1171777</td><td> 9.0</td><td>8388608</td><td>64.0</td><td>1815622</td><td>13.9</td></tr>\n",
       "</tbody>\n",
       "</table>\n"
      ],
      "text/latex": [
       "A matrix: 2 × 6 of type dbl\n",
       "\\begin{tabular}{r|llllll}\n",
       "  & used & (Mb) & gc trigger & (Mb) & max used & (Mb)\\\\\n",
       "\\hline\n",
       "\tNcells &  632565 & 33.8 & 1412747 & 75.5 & 1152217 & 61.6\\\\\n",
       "\tVcells & 1171777 &  9.0 & 8388608 & 64.0 & 1815622 & 13.9\\\\\n",
       "\\end{tabular}\n"
      ],
      "text/markdown": [
       "\n",
       "A matrix: 2 × 6 of type dbl\n",
       "\n",
       "| <!--/--> | used | (Mb) | gc trigger | (Mb) | max used | (Mb) |\n",
       "|---|---|---|---|---|---|---|\n",
       "| Ncells |  632565 | 33.8 | 1412747 | 75.5 | 1152217 | 61.6 |\n",
       "| Vcells | 1171777 |  9.0 | 8388608 | 64.0 | 1815622 | 13.9 |\n",
       "\n"
      ],
      "text/plain": [
       "       used    (Mb) gc trigger (Mb) max used (Mb)\n",
       "Ncells  632565 33.8 1412747    75.5 1152217  61.6\n",
       "Vcells 1171777  9.0 8388608    64.0 1815622  13.9"
      ]
     },
     "metadata": {},
     "output_type": "display_data"
    }
   ],
   "source": [
    "rm(list = ls())\n",
    "gc()\n",
    "\n",
    "library(\"data.table\") # cargo la libreria  data.table\n",
    "library(\"rpart\") # cargo la libreria  rpart\n",
    "library(\"rpart.plot\")\n",
    "\n",
    "options(repr.plot.width = 20, repr.plot.height = 10)\n",
    "setwd(\"~/buckets/b1/\")\n"
   ]
  },
  {
   "cell_type": "code",
   "execution_count": 2,
   "metadata": {
    "tags": [],
    "vscode": {
     "languageId": "r"
    }
   },
   "outputs": [],
   "source": [
    "dataset <- fread(\"./datasets/dataset_pequeno.csv\") # cargo el dataset #cargo el dataset\n"
   ]
  },
  {
   "cell_type": "code",
   "execution_count": 3,
   "metadata": {
    "tags": [],
    "vscode": {
     "languageId": "r"
    }
   },
   "outputs": [],
   "source": [
    "dtrain <- dataset[foto_mes == 202107]\n",
    "dapply <- dataset[foto_mes == 202109]\n"
   ]
  },
  {
   "cell_type": "code",
   "execution_count": 4,
   "metadata": {
    "tags": [],
    "vscode": {
     "languageId": "r"
    }
   },
   "outputs": [],
   "source": [
    "# genero el modelo\n",
    "modelo <- rpart::rpart(\n",
    "    formula = \"clase_ternaria ~ .\",\n",
    "    data = dtrain,\n",
    "    xval = 0,\n",
    "    cp = -1,\n",
    "    maxdepth = 2\n",
    ")\n"
   ]
  },
  {
   "attachments": {},
   "cell_type": "markdown",
   "metadata": {},
   "source": [
    "Aplico el modelo a los datos dapply  pidiendo que me devuelva probabildades"
   ]
  },
  {
   "cell_type": "code",
   "execution_count": 5,
   "metadata": {
    "tags": [],
    "vscode": {
     "languageId": "r"
    }
   },
   "outputs": [],
   "source": [
    "prediccion <- predict(modelo, dapply, type = \"prob\")\n"
   ]
  },
  {
   "attachments": {},
   "cell_type": "markdown",
   "metadata": {},
   "source": [
    "Analizo que queda en prediccion"
   ]
  },
  {
   "cell_type": "code",
   "execution_count": 6,
   "metadata": {
    "tags": [],
    "vscode": {
     "languageId": "r"
    }
   },
   "outputs": [
    {
     "data": {
      "text/html": [
       "<table class=\"dataframe\">\n",
       "<caption>A matrix: 6 × 3 of type dbl</caption>\n",
       "<thead>\n",
       "\t<tr><th></th><th scope=col>BAJA+1</th><th scope=col>BAJA+2</th><th scope=col>CONTINUA</th></tr>\n",
       "</thead>\n",
       "<tbody>\n",
       "\t<tr><th scope=row>1</th><td>0.00225795</td><td>0.002989693</td><td>0.9947524</td></tr>\n",
       "\t<tr><th scope=row>2</th><td>0.00225795</td><td>0.002989693</td><td>0.9947524</td></tr>\n",
       "\t<tr><th scope=row>3</th><td>0.02345092</td><td>0.023781213</td><td>0.9527679</td></tr>\n",
       "\t<tr><th scope=row>4</th><td>0.00225795</td><td>0.002989693</td><td>0.9947524</td></tr>\n",
       "\t<tr><th scope=row>5</th><td>0.00225795</td><td>0.002989693</td><td>0.9947524</td></tr>\n",
       "\t<tr><th scope=row>6</th><td>0.00225795</td><td>0.002989693</td><td>0.9947524</td></tr>\n",
       "</tbody>\n",
       "</table>\n"
      ],
      "text/latex": [
       "A matrix: 6 × 3 of type dbl\n",
       "\\begin{tabular}{r|lll}\n",
       "  & BAJA+1 & BAJA+2 & CONTINUA\\\\\n",
       "\\hline\n",
       "\t1 & 0.00225795 & 0.002989693 & 0.9947524\\\\\n",
       "\t2 & 0.00225795 & 0.002989693 & 0.9947524\\\\\n",
       "\t3 & 0.02345092 & 0.023781213 & 0.9527679\\\\\n",
       "\t4 & 0.00225795 & 0.002989693 & 0.9947524\\\\\n",
       "\t5 & 0.00225795 & 0.002989693 & 0.9947524\\\\\n",
       "\t6 & 0.00225795 & 0.002989693 & 0.9947524\\\\\n",
       "\\end{tabular}\n"
      ],
      "text/markdown": [
       "\n",
       "A matrix: 6 × 3 of type dbl\n",
       "\n",
       "| <!--/--> | BAJA+1 | BAJA+2 | CONTINUA |\n",
       "|---|---|---|---|\n",
       "| 1 | 0.00225795 | 0.002989693 | 0.9947524 |\n",
       "| 2 | 0.00225795 | 0.002989693 | 0.9947524 |\n",
       "| 3 | 0.02345092 | 0.023781213 | 0.9527679 |\n",
       "| 4 | 0.00225795 | 0.002989693 | 0.9947524 |\n",
       "| 5 | 0.00225795 | 0.002989693 | 0.9947524 |\n",
       "| 6 | 0.00225795 | 0.002989693 | 0.9947524 |\n",
       "\n"
      ],
      "text/plain": [
       "  BAJA+1     BAJA+2      CONTINUA \n",
       "1 0.00225795 0.002989693 0.9947524\n",
       "2 0.00225795 0.002989693 0.9947524\n",
       "3 0.02345092 0.023781213 0.9527679\n",
       "4 0.00225795 0.002989693 0.9947524\n",
       "5 0.00225795 0.002989693 0.9947524\n",
       "6 0.00225795 0.002989693 0.9947524"
      ]
     },
     "metadata": {},
     "output_type": "display_data"
    }
   ],
   "source": [
    "head(prediccion)\n"
   ]
  },
  {
   "attachments": {},
   "cell_type": "markdown",
   "metadata": {},
   "source": [
    "Prediccion es una matriz; me interesa la columna \"BAJA+2\"  que es la probabilidad que modelo asigna a cada registro de dapply"
   ]
  },
  {
   "cell_type": "code",
   "execution_count": 7,
   "metadata": {
    "tags": [],
    "vscode": {
     "languageId": "r"
    }
   },
   "outputs": [],
   "source": [
    "prob_baja2 <- prediccion[, \"BAJA+2\"]\n"
   ]
  },
  {
   "cell_type": "code",
   "execution_count": 8,
   "metadata": {
    "tags": [],
    "vscode": {
     "languageId": "r"
    }
   },
   "outputs": [
    {
     "data": {
      "text/html": [
       "<style>\n",
       ".dl-inline {width: auto; margin:0; padding: 0}\n",
       ".dl-inline>dt, .dl-inline>dd {float: none; width: auto; display: inline-block}\n",
       ".dl-inline>dt::after {content: \":\\0020\"; padding-right: .5ex}\n",
       ".dl-inline>dt:not(:first-of-type) {padding-left: .5ex}\n",
       "</style><dl class=dl-inline><dt>1</dt><dd>0.00298969287700445</dd><dt>2</dt><dd>0.00298969287700445</dd><dt>3</dt><dd>0.0237812128418549</dd><dt>4</dt><dd>0.00298969287700445</dd><dt>5</dt><dd>0.00298969287700445</dd><dt>6</dt><dd>0.00298969287700445</dd></dl>\n"
      ],
      "text/latex": [
       "\\begin{description*}\n",
       "\\item[1] 0.00298969287700445\n",
       "\\item[2] 0.00298969287700445\n",
       "\\item[3] 0.0237812128418549\n",
       "\\item[4] 0.00298969287700445\n",
       "\\item[5] 0.00298969287700445\n",
       "\\item[6] 0.00298969287700445\n",
       "\\end{description*}\n"
      ],
      "text/markdown": [
       "1\n",
       ":   0.002989692877004452\n",
       ":   0.002989692877004453\n",
       ":   0.02378121284185494\n",
       ":   0.002989692877004455\n",
       ":   0.002989692877004456\n",
       ":   0.00298969287700445\n",
       "\n"
      ],
      "text/plain": [
       "          1           2           3           4           5           6 \n",
       "0.002989693 0.002989693 0.023781213 0.002989693 0.002989693 0.002989693 "
      ]
     },
     "metadata": {},
     "output_type": "display_data"
    }
   ],
   "source": [
    "head(prob_baja2)\n"
   ]
  },
  {
   "attachments": {},
   "cell_type": "markdown",
   "metadata": {},
   "source": [
    "prob_baja2 es el vector de probabilidades"
   ]
  },
  {
   "cell_type": "code",
   "execution_count": 9,
   "metadata": {
    "tags": [],
    "vscode": {
     "languageId": "r"
    }
   },
   "outputs": [
    {
     "data": {
      "text/html": [
       "165093"
      ],
      "text/latex": [
       "165093"
      ],
      "text/markdown": [
       "165093"
      ],
      "text/plain": [
       "[1] 165093"
      ]
     },
     "metadata": {},
     "output_type": "display_data"
    },
    {
     "data": {
      "text/html": [
       "165093"
      ],
      "text/latex": [
       "165093"
      ],
      "text/markdown": [
       "165093"
      ],
      "text/plain": [
       "[1] 165093"
      ]
     },
     "metadata": {},
     "output_type": "display_data"
    }
   ],
   "source": [
    "length(prob_baja2)\n",
    "nrow(dapply)\n"
   ]
  },
  {
   "attachments": {},
   "cell_type": "markdown",
   "metadata": {},
   "source": [
    "Ahora decido si envio el estimulo o no\n",
    "<br>\n",
    "si prob( BAJA+2) > 0.025  envio  el estímulo"
   ]
  },
  {
   "cell_type": "code",
   "execution_count": 10,
   "metadata": {
    "tags": [],
    "vscode": {
     "languageId": "r"
    }
   },
   "outputs": [],
   "source": [
    "Predicted <- ifelse(prob_baja2 > 0.025, 1, 0)\n"
   ]
  },
  {
   "cell_type": "code",
   "execution_count": 11,
   "metadata": {
    "tags": [],
    "vscode": {
     "languageId": "r"
    }
   },
   "outputs": [
    {
     "data": {
      "text/html": [
       "<style>\n",
       ".dl-inline {width: auto; margin:0; padding: 0}\n",
       ".dl-inline>dt, .dl-inline>dd {float: none; width: auto; display: inline-block}\n",
       ".dl-inline>dt::after {content: \":\\0020\"; padding-right: .5ex}\n",
       ".dl-inline>dt:not(:first-of-type) {padding-left: .5ex}\n",
       "</style><dl class=dl-inline><dt>1</dt><dd>0</dd><dt>2</dt><dd>0</dd><dt>3</dt><dd>0</dd><dt>4</dt><dd>0</dd><dt>5</dt><dd>0</dd><dt>6</dt><dd>0</dd></dl>\n"
      ],
      "text/latex": [
       "\\begin{description*}\n",
       "\\item[1] 0\n",
       "\\item[2] 0\n",
       "\\item[3] 0\n",
       "\\item[4] 0\n",
       "\\item[5] 0\n",
       "\\item[6] 0\n",
       "\\end{description*}\n"
      ],
      "text/markdown": [
       "1\n",
       ":   02\n",
       ":   03\n",
       ":   04\n",
       ":   05\n",
       ":   06\n",
       ":   0\n",
       "\n"
      ],
      "text/plain": [
       "1 2 3 4 5 6 \n",
       "0 0 0 0 0 0 "
      ]
     },
     "metadata": {},
     "output_type": "display_data"
    }
   ],
   "source": [
    "head(Predicted)\n"
   ]
  },
  {
   "cell_type": "code",
   "execution_count": 12,
   "metadata": {
    "tags": [],
    "vscode": {
     "languageId": "r"
    }
   },
   "outputs": [
    {
     "data": {
      "image/png": "[encoded data removed]",
      "text/plain": [
       "Plot with title “Histogram of Predicted”"
      ]
     },
     "metadata": {
      "image/png": {
       "height": 600,
       "width": 1200
      }
     },
     "output_type": "display_data"
    }
   ],
   "source": [
    "hist(Predicted)\n"
   ]
  },
  {
   "attachments": {},
   "cell_type": "markdown",
   "metadata": {},
   "source": [
    "creo una tabla con  lo que voy a enviar a Kaggle"
   ]
  },
  {
   "cell_type": "code",
   "execution_count": 13,
   "metadata": {
    "tags": [],
    "vscode": {
     "languageId": "r"
    }
   },
   "outputs": [],
   "source": [
    "entrega <- as.data.table(list(\"numero_de_cliente\" = dapply$numero_de_cliente, \"Predicted\" = Predicted))\n"
   ]
  },
  {
   "cell_type": "code",
   "execution_count": 14,
   "metadata": {
    "tags": [],
    "vscode": {
     "languageId": "r"
    }
   },
   "outputs": [
    {
     "data": {
      "text/html": [
       "<table class=\"dataframe\">\n",
       "<caption>A data.table: 6 × 2</caption>\n",
       "<thead>\n",
       "\t<tr><th scope=col>numero_de_cliente</th><th scope=col>Predicted</th></tr>\n",
       "\t<tr><th scope=col>&lt;int&gt;</th><th scope=col>&lt;dbl&gt;</th></tr>\n",
       "</thead>\n",
       "<tbody>\n",
       "\t<tr><td>29183733</td><td>0</td></tr>\n",
       "\t<tr><td>29184468</td><td>0</td></tr>\n",
       "\t<tr><td>29185245</td><td>0</td></tr>\n",
       "\t<tr><td>29186441</td><td>0</td></tr>\n",
       "\t<tr><td>29186475</td><td>0</td></tr>\n",
       "\t<tr><td>29187730</td><td>0</td></tr>\n",
       "</tbody>\n",
       "</table>\n"
      ],
      "text/latex": [
       "A data.table: 6 × 2\n",
       "\\begin{tabular}{ll}\n",
       " numero\\_de\\_cliente & Predicted\\\\\n",
       " <int> & <dbl>\\\\\n",
       "\\hline\n",
       "\t 29183733 & 0\\\\\n",
       "\t 29184468 & 0\\\\\n",
       "\t 29185245 & 0\\\\\n",
       "\t 29186441 & 0\\\\\n",
       "\t 29186475 & 0\\\\\n",
       "\t 29187730 & 0\\\\\n",
       "\\end{tabular}\n"
      ],
      "text/markdown": [
       "\n",
       "A data.table: 6 × 2\n",
       "\n",
       "| numero_de_cliente &lt;int&gt; | Predicted &lt;dbl&gt; |\n",
       "|---|---|\n",
       "| 29183733 | 0 |\n",
       "| 29184468 | 0 |\n",
       "| 29185245 | 0 |\n",
       "| 29186441 | 0 |\n",
       "| 29186475 | 0 |\n",
       "| 29187730 | 0 |\n",
       "\n"
      ],
      "text/plain": [
       "  numero_de_cliente Predicted\n",
       "1 29183733          0        \n",
       "2 29184468          0        \n",
       "3 29185245          0        \n",
       "4 29186441          0        \n",
       "5 29186475          0        \n",
       "6 29187730          0        "
      ]
     },
     "metadata": {},
     "output_type": "display_data"
    }
   ],
   "source": [
    "head(entrega)\n"
   ]
  },
  {
   "cell_type": "code",
   "execution_count": 15,
   "metadata": {
    "tags": [],
    "vscode": {
     "languageId": "r"
    }
   },
   "outputs": [
    {
     "data": {
      "text/html": [
       "<table class=\"dataframe\">\n",
       "<caption>A data.table: 2 × 2</caption>\n",
       "<thead>\n",
       "\t<tr><th scope=col>Predicted</th><th scope=col>N</th></tr>\n",
       "\t<tr><th scope=col>&lt;dbl&gt;</th><th scope=col>&lt;int&gt;</th></tr>\n",
       "</thead>\n",
       "<tbody>\n",
       "\t<tr><td>0</td><td>160114</td></tr>\n",
       "\t<tr><td>1</td><td>  4979</td></tr>\n",
       "</tbody>\n",
       "</table>\n"
      ],
      "text/latex": [
       "A data.table: 2 × 2\n",
       "\\begin{tabular}{ll}\n",
       " Predicted & N\\\\\n",
       " <dbl> & <int>\\\\\n",
       "\\hline\n",
       "\t 0 & 160114\\\\\n",
       "\t 1 &   4979\\\\\n",
       "\\end{tabular}\n"
      ],
      "text/markdown": [
       "\n",
       "A data.table: 2 × 2\n",
       "\n",
       "| Predicted &lt;dbl&gt; | N &lt;int&gt; |\n",
       "|---|---|\n",
       "| 0 | 160114 |\n",
       "| 1 |   4979 |\n",
       "\n"
      ],
      "text/plain": [
       "  Predicted N     \n",
       "1 0         160114\n",
       "2 1           4979"
      ]
     },
     "metadata": {},
     "output_type": "display_data"
    }
   ],
   "source": [
    "entrega[, .N, Predicted]\n"
   ]
  },
  {
   "attachments": {},
   "cell_type": "markdown",
   "metadata": {},
   "source": [
    "Esto significa que se enviaran 4979 estímulos"
   ]
  },
  {
   "cell_type": "code",
   "execution_count": 16,
   "metadata": {
    "tags": [],
    "vscode": {
     "languageId": "r"
    }
   },
   "outputs": [],
   "source": [
    "# genero el archivo para Kaggle\n",
    "# creo la carpeta donde va el experimento\n",
    "dir.create(\"./exp/\", showWarnings = FALSE)\n",
    "dir.create(\"./exp/ZH2017/\", showWarnings = FALSE)\n",
    "\n",
    "fwrite(entrega,\n",
    "        file = \"./exp/ZH2017/para_Kaggle_0107.csv\",\n",
    "        sep = \",\"\n",
    ")\n"
   ]
  },
  {
   "cell_type": "code",
   "execution_count": null,
   "metadata": {},
   "outputs": [],
   "source": []
  }
 ],
 "metadata": {
  "kernelspec": {
   "display_name": "R",
   "language": "R",
   "name": "ir"
  },
  "language_info": {
   "codemirror_mode": "r",
   "file_extension": ".r",
   "mimetype": "text/x-r-source",
   "name": "R",
   "pygments_lexer": "r",
   "version": "4.3.3"
  }
 },
 "nbformat": 4,
 "nbformat_minor": 4
}
